{
 "cells": [
  {
   "cell_type": "code",
   "execution_count": 9,
   "metadata": {},
   "outputs": [],
   "source": [
    "#random note -- I should make a list of all the packages people will have to pip install to run this code\n",
    "#also, a lot of my comments are what copilot told me. not my own words! might be an issue?\n",
    "\n",
    "import os #lets us interact with the operating system to make directories, delete files, etc\n",
    "import requests #lets us download files from the internet; is a simple API\n",
    "import subprocess #lets us run other programs from this code; may need to remove??\n",
    "import zipfile #reading and writing zip files\n",
    "\n",
    "#If we don't want to import all of os:\n",
    "#import os.path.join #concatenates separate strings that describe the location of a file or directory\n",
    "#import os.path.isdir #checks if a given path is a directory\n",
    "#import os.makedirs #creates new directory at the given path"
   ]
  },
  {
   "cell_type": "code",
   "execution_count": 10,
   "metadata": {},
   "outputs": [],
   "source": [
    "\n",
    "#We can directly access the data we need from the CyVerse Data Store using the following URL:\n",
    "input_data_url = \"https://de.cyverse.org/dl/d/B8A1E227-19BC-4994-8762-ABE4FCBA348A/LeSueurNetworkData.zip\"\n",
    "\n",
    "#Define paths for our workspace, input data, and results\n",
    "#We need to define the paths so that we can make sure the directories that we will need exist\n",
    "workspace = \"../data/LeSueur\"\n",
    "inputs_dir = os.path.join(workspace, \"inputs\")\n",
    "results_dir = os.path.join(workspace, \"results\")\n",
    "\n",
    "#define a main function to run the code; we will define set_up_workspace and download_data functions later\n",
    "def main():\n",
    "    set_up_workspace()\n",
    "    download_data()\n",
    "\n",
    "\"Create data/LeSueur containing inputs and results folders \"\n",
    "def set_up_workspace():\n",
    "    for path in [workspace, inputs_dir, results_dir]:\n",
    "        if not os.path.isdir(path):\n",
    "            os.makedirs(path)\n",
    "\n",
    "\"Download the data from the CyVerse Data Store and unzip it\"\n",
    "\n",
    "def download_data():\n",
    "    target_file = os.path.join(inputs_dir, \"LeSueurNetworkData.zip\")\n",
    "    response = requests.get(input_data_url)\n",
    "    with open(target_file, 'wb') as f:\n",
    "        f.write(response.content)\n",
    "    with zipfile.ZipFile(target_file, 'r') as zip_ref:\n",
    "        zip_ref.extractall(inputs_dir)\n",
    "    os.remove(target_file)\n",
    "\n",
    "\n",
    "#trigger the execution of the program!\n",
    "main()"
   ]
  },
  {
   "cell_type": "code",
   "execution_count": 11,
   "metadata": {},
   "outputs": [
    {
     "name": "stdout",
     "output_type": "stream",
     "text": [
      "Directory ../data/LeSueur exists.\n",
      "Directory ../data/LeSueur\\inputs exists.\n",
      "Directory ../data/LeSueur\\results exists.\n"
     ]
    }
   ],
   "source": [
    "#Testing to make sure the code works:\n",
    "\n",
    "#Verify that the workspace was made correctly/check if directory exists\n",
    "def verify_workspace():\n",
    "    for path in [workspace, inputs_dir, results_dir]:\n",
    "        if not os.path.isdir(path):\n",
    "            print(f\"Directory {path} does not exist.\")\n",
    "        else:\n",
    "            print(f\"Directory {path} exists.\")\n",
    "\n",
    "verify_workspace()"
   ]
  },
  {
   "cell_type": "code",
   "execution_count": 12,
   "metadata": {},
   "outputs": [
    {
     "name": "stdout",
     "output_type": "stream",
     "text": [
      "../data/LeSueur\\inputs\\LeSueurNetworkData\\base_params.csv\n",
      "../data/LeSueur\\inputs\\LeSueurNetworkData\\flow_values.csv\n",
      "../data/LeSueur\\inputs\\LeSueurNetworkData\\network_table.csv\n",
      "../data/LeSueur\\inputs\\__MACOSX\\LeSueurNetworkData\\._base_params.csv\n",
      "../data/LeSueur\\inputs\\__MACOSX\\LeSueurNetworkData\\._flow_values.csv\n",
      "../data/LeSueur\\inputs\\__MACOSX\\LeSueurNetworkData\\._network_table.csv\n"
     ]
    }
   ],
   "source": [
    "#Verify that the data was downlaoded correctly\n",
    "\n",
    "def list_all_files(directory):\n",
    "    for root, dirs, files in os.walk(directory):\n",
    "        for file in files:\n",
    "            print(os.path.join(root, file))\n",
    "\n",
    "# Call the function with the path to the directory\n",
    "list_all_files(inputs_dir)"
   ]
  }
 ],
 "metadata": {
  "kernelspec": {
   "display_name": "Python 3",
   "language": "python",
   "name": "python3"
  },
  "language_info": {
   "codemirror_mode": {
    "name": "ipython",
    "version": 3
   },
   "file_extension": ".py",
   "mimetype": "text/x-python",
   "name": "python",
   "nbconvert_exporter": "python",
   "pygments_lexer": "ipython3",
   "version": "3.11.5"
  }
 },
 "nbformat": 4,
 "nbformat_minor": 2
}
