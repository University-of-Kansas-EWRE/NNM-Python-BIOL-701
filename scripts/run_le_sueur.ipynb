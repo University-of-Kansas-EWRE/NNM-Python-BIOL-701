{
 "cells": [
  {
   "cell_type": "code",
   "execution_count": 3,
   "metadata": {},
   "outputs": [
    {
     "name": "stdout",
     "output_type": "stream",
     "text": [
      "['c:\\\\Users\\\\gpcin\\\\OneDrive - University of Kansas\\\\JupyterLab\\\\LOCAL NNM Python\\\\scripts\\\\..\\\\src', 'c:\\\\Users\\\\gpcin\\\\OneDrive - University of Kansas\\\\JupyterLab\\\\LOCAL NNM Python\\\\scripts\\\\..\\\\src', 'c:\\\\Users\\\\gpcin\\\\OneDrive - University of Kansas\\\\JupyterLab\\\\LOCAL NNM Python\\\\scripts\\\\..\\\\src', 'c:\\\\Users\\\\gpcin\\\\OneDrive - University of Kansas\\\\JupyterLab\\\\LOCAL NNM Python\\\\scripts', 'c:\\\\Users\\\\gpcin\\\\AppData\\\\Local\\\\Programs\\\\Python\\\\Python311\\\\python311.zip', 'c:\\\\Users\\\\gpcin\\\\AppData\\\\Local\\\\Programs\\\\Python\\\\Python311\\\\DLLs', 'c:\\\\Users\\\\gpcin\\\\AppData\\\\Local\\\\Programs\\\\Python\\\\Python311\\\\Lib', 'c:\\\\Users\\\\gpcin\\\\AppData\\\\Local\\\\Programs\\\\Python\\\\Python311', '', 'c:\\\\Users\\\\gpcin\\\\AppData\\\\Local\\\\Programs\\\\Python\\\\Python311\\\\Lib\\\\site-packages', 'c:\\\\Users\\\\gpcin\\\\AppData\\\\Local\\\\Programs\\\\Python\\\\Python311\\\\Lib\\\\site-packages\\\\win32', 'c:\\\\Users\\\\gpcin\\\\AppData\\\\Local\\\\Programs\\\\Python\\\\Python311\\\\Lib\\\\site-packages\\\\win32\\\\lib', 'c:\\\\Users\\\\gpcin\\\\AppData\\\\Local\\\\Programs\\\\Python\\\\Python311\\\\Lib\\\\site-packages\\\\Pythonwin']\n"
     ]
    },
    {
     "ename": "ImportError",
     "evalue": "cannot import name 'LinkNetwork' from 'link_network' (c:\\Users\\gpcin\\OneDrive - University of Kansas\\JupyterLab\\LOCAL NNM Python\\scripts\\..\\src\\link_network.py)",
     "output_type": "error",
     "traceback": [
      "\u001b[1;31m---------------------------------------------------------------------------\u001b[0m",
      "\u001b[1;31mImportError\u001b[0m                               Traceback (most recent call last)",
      "Cell \u001b[1;32mIn[3], line 17\u001b[0m\n\u001b[0;32m     13\u001b[0m sys\u001b[38;5;241m.\u001b[39mpath\u001b[38;5;241m.\u001b[39minsert(\u001b[38;5;241m0\u001b[39m, src_dir)\n\u001b[0;32m     15\u001b[0m \u001b[38;5;28mprint\u001b[39m(sys\u001b[38;5;241m.\u001b[39mpath)\n\u001b[1;32m---> 17\u001b[0m \u001b[38;5;28;01mimport\u001b[39;00m \u001b[38;5;21;01mNitrateNetworkModel\u001b[39;00m\n\u001b[0;32m     19\u001b[0m workspace \u001b[38;5;241m=\u001b[39m \u001b[38;5;124m\"\u001b[39m\u001b[38;5;124m../data/LeSueur\u001b[39m\u001b[38;5;124m\"\u001b[39m\n\u001b[0;32m     21\u001b[0m \u001b[38;5;28;01mdef\u001b[39;00m \u001b[38;5;21minputpath\u001b[39m(basename):\n",
      "File \u001b[1;32mc:\\Users\\gpcin\\OneDrive - University of Kansas\\JupyterLab\\LOCAL NNM Python\\scripts\\..\\src\\NitrateNetworkModel.py:15\u001b[0m\n\u001b[0;32m      9\u001b[0m \u001b[38;5;28;01mimport\u001b[39;00m \u001b[38;5;21;01mgeopandas\u001b[39;00m \u001b[38;5;28;01mas\u001b[39;00m \u001b[38;5;21;01mgpd\u001b[39;00m \u001b[38;5;66;03m#geopandas is a library for working with geospatial data\u001b[39;00m\n\u001b[0;32m     12\u001b[0m \u001b[38;5;66;03m#Importing modules from the other files in src\u001b[39;00m\n\u001b[0;32m     13\u001b[0m \u001b[38;5;66;03m#though I will try to stick to the exact Julia names, go over this section at the end and make sure each data class and fnc name matches the ones actually used in that file**\u001b[39;00m\n\u001b[1;32m---> 15\u001b[0m \u001b[38;5;28;01mfrom\u001b[39;00m \u001b[38;5;21;01mlink_network\u001b[39;00m \u001b[38;5;28;01mimport\u001b[39;00m LinkNetwork, calc_routing_depth, get_routing_order, get_headwater_links \u001b[38;5;66;03m#imports classes and functions from link_network.py\u001b[39;00m\n\u001b[0;32m     16\u001b[0m \u001b[38;5;28;01mfrom\u001b[39;00m \u001b[38;5;21;01mStreamModels\u001b[39;00m \u001b[38;5;28;01mimport\u001b[39;00m StreamModel, ModelConstants, NetworkConstants, ModelVariables\n\u001b[0;32m     19\u001b[0m \u001b[38;5;28;01mfrom\u001b[39;00m \u001b[38;5;21;01mnnm\u001b[39;00m \u001b[38;5;28;01mimport\u001b[39;00m \u001b[38;5;241m*\u001b[39m \u001b[38;5;66;03m#might be a better way to do this; Julia code seems to have imported all of nnm\u001b[39;00m\n",
      "\u001b[1;31mImportError\u001b[0m: cannot import name 'LinkNetwork' from 'link_network' (c:\\Users\\gpcin\\OneDrive - University of Kansas\\JupyterLab\\LOCAL NNM Python\\scripts\\..\\src\\link_network.py)"
     ]
    }
   ],
   "source": [
    "\n",
    "import os\n",
    "\n",
    "import sys\n",
    "\n",
    "\n",
    "# Get the absolute path of the current script's directory\n",
    "script_dir = os.path.dirname(os.path.abspath('run_le_sueur.ipynb'))\n",
    "\n",
    "# Append the \"src\" directory to the script's directory\n",
    "src_dir = os.path.join(script_dir, '..', 'src')\n",
    "\n",
    "# Add the \"src\" directory to the beginning of sys.path\n",
    "sys.path.insert(0, src_dir)\n",
    "\n",
    "print(sys.path)\n",
    "\n",
    "import NitrateNetworkModel\n",
    "\n",
    "workspace = \"../data/LeSueur\"\n",
    "\n",
    "def inputpath(basename):\n",
    "    return os.path.join(workspace, \"inputs\", \"LeSueurNetworkData\", basename)\n",
    "\n",
    "def resultpath(basename):\n",
    "    return os.path.join(workspace, \"results\", basename)\n"
   ]
  },
  {
   "cell_type": "code",
   "execution_count": null,
   "metadata": {},
   "outputs": [],
   "source": [
    "\n",
    "def main():\n",
    "    sm = NitrateNetworkModel.StreamModel(\n",
    "        inputpath(\"base_params.csv\"), \n",
    "        inputpath(\"network_table.csv\")\n",
    "    )\n",
    "    sm.evaluate()\n",
    "    sm.save_model_results(resultpath(\"base_results.csv\"))\n",
    "\n",
    "    #If you want to evaluate the model with different flow regimes:\n",
    "    #flowregime = NitrateNetworkModel.FlowRegime(inputpath(\"flow_values.csv\"))\n",
    "    #results = sm.evaluate(flowregime)\n",
    "    #print(\"weighted_avg_nconc:\", results.weighted_avg_nconc())\n",
    "    #print(\"weighted_outlet_nconc:\", results.weighted_outlet_nconc())\n",
    "\n",
    "main()\n"
   ]
  }
 ],
 "metadata": {
  "kernelspec": {
   "display_name": "Python 3",
   "language": "python",
   "name": "python3"
  },
  "language_info": {
   "codemirror_mode": {
    "name": "ipython",
    "version": 3
   },
   "file_extension": ".py",
   "mimetype": "text/x-python",
   "name": "python",
   "nbconvert_exporter": "python",
   "pygments_lexer": "ipython3",
   "version": "3.11.5"
  }
 },
 "nbformat": 4,
 "nbformat_minor": 2
}
