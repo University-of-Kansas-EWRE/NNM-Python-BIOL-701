{
 "cells": [
  {
   "cell_type": "code",
   "execution_count": null,
   "metadata": {},
   "outputs": [],
   "source": [
    "#this dataclass decorator is used to reduce boilterplate code, like init and self. it makes it easier to read for other users, rather than manually defining init and repr, etc.\n",
    "#this might be a better choice since this code will be open source. "
   ]
  },
  {
   "cell_type": "code",
   "execution_count": null,
   "metadata": {},
   "outputs": [],
   "source": [
    "from dataclasses import dataclass\n",
    "from typing import List\n",
    "\n",
    "@dataclass\n",
    "class NetworkConstants:\n",
    "    n_links: int\n",
    "    outlet_link: int\n",
    "    gage_link: int\n",
    "    gage_flow: float\n",
    "    feature: List[int]\n",
    "    to_node: List[int]\n",
    "    us_area: List[float]\n",
    "    contrib_area: List[float]\n",
    "    contrib_subwatershed: List[int]\n",
    "    contrib_n_load_factor: List[float]\n",
    "    routing_order: List[int]\n",
    "    hw_links: List[int]\n",
    "    slope: List[float]\n",
    "    link_len: List[float]\n",
    "    wetland_area: List[float]\n",
    "    pEM: List[float]\n",
    "    fainN: List[float]\n",
    "    fainC: List[float]\n",
    "    B_gage: int = -1\n",
    "    B_us_area: float = -1.0"
   ]
  }
 ],
 "metadata": {
  "language_info": {
   "name": "python"
  }
 },
 "nbformat": 4,
 "nbformat_minor": 2
}
