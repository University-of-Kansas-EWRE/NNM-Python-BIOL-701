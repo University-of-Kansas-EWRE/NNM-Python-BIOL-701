{
 "cells": [
  {
   "cell_type": "code",
   "execution_count": 1,
   "metadata": {},
   "outputs": [],
   "source": [
    "import csv\n",
    "import pandas as pd\n",
    "import os #standard library for interacting with the operating system; similar to delimited files\n",
    "import yaml #similar to YAML in Julia; json is a subset of YAML. they are data serialization formats to configure files and exhange data between languages with different data structures\n",
    "from dataclasses import dataclass #similar to parameters in Julia; it is a decorator that is used to create a data class\n",
    "\n",
    "#Julia code imported FileIO, which supported many different file formats. Python has different libraries for different file formats\n",
    "#So I need to import the file reader for the file format I want to use\n",
    "import geopandas as gpd #geopandas is a library for working with geospatial data"
   ]
  },
  {
   "cell_type": "code",
   "execution_count": 5,
   "metadata": {},
   "outputs": [
    {
     "ename": "ModuleNotFoundError",
     "evalue": "No module named 'link_network'",
     "output_type": "error",
     "traceback": [
      "\u001b[1;31m---------------------------------------------------------------------------\u001b[0m",
      "\u001b[1;31mModuleNotFoundError\u001b[0m                       Traceback (most recent call last)",
      "Cell \u001b[1;32mIn[5], line 3\u001b[0m\n\u001b[0;32m      1\u001b[0m \u001b[38;5;66;03m#Importing modules from the other files in src\u001b[39;00m\n\u001b[1;32m----> 3\u001b[0m \u001b[38;5;28;01mfrom\u001b[39;00m \u001b[38;5;21;01mlink_network\u001b[39;00m \u001b[38;5;28;01mimport\u001b[39;00m LinkNetwork, calc_routing_depth, get_routing_order, get_headwater_links \u001b[38;5;66;03m#imports classes and functions from link_network.py\u001b[39;00m\n\u001b[0;32m      4\u001b[0m \u001b[38;5;28;01mfrom\u001b[39;00m \u001b[38;5;21;01mStreamModels\u001b[39;00m \u001b[38;5;28;01mimport\u001b[39;00m StreamModel, ModelConstants, NetworkConstants, ModelVariables\n\u001b[0;32m      7\u001b[0m \u001b[38;5;28;01mfrom\u001b[39;00m \u001b[38;5;21;01mnnm\u001b[39;00m \u001b[38;5;28;01mimport\u001b[39;00m \u001b[38;5;241m*\u001b[39m \u001b[38;5;66;03m#might be a better way to do this; Julia code seems to have imported all of nnm\u001b[39;00m\n",
      "\u001b[1;31mModuleNotFoundError\u001b[0m: No module named 'link_network'"
     ]
    }
   ],
   "source": [
    "\n",
    "#Importing modules from the other files in src\n",
    "#though I will try to stick to the exact Julia names, go over this section at the end and make sure each data class and fnc name matches the ones actually used in that file**\n",
    "\n",
    "from link_network import LinkNetwork, calc_routing_depth, get_routing_order, get_headwater_links #imports classes and functions from link_network.py\n",
    "from StreamModels import StreamModel, ModelConstants, NetworkConstants, ModelVariables\n",
    "\n",
    "\n",
    "from nnm import * #might be a better way to do this; Julia code seems to have imported all of nnm\n",
    "\n",
    "from nnm_io import ModelConstants, NetworkConstants, ModelVariables, StreamModel, evaluate, get_outlet_nconc, get_avg_nconc, get_average_nconc, get_delivery_ratios, reset_model_vars\n",
    "from nnm_io import load_data_from_dir, load_model_from_matlab_dump, save_constants, load_constants, save_model_results, build_network, save_model_variables\n",
    "\n",
    "from operators import * \n",
    "\n",
    "from FlowRegimes import FlowRegime, FlowRegimeSimResults, evaluate, evaluate2, weighted_avg_nconc, weighted_outlet_nconc, full_eval_flow_regime, write_flow_regime\n",
    "from SubNetworks import SubNetworkDef, generate_subnetwork, generate_subnetwork_file, generate_subnetwork_modelparams_file, generate_subnetwork_flowregime_file\n",
    "\n"
   ]
  },
  {
   "cell_type": "code",
   "execution_count": null,
   "metadata": {},
   "outputs": [],
   "source": []
  }
 ],
 "metadata": {
  "kernelspec": {
   "display_name": "Python 3",
   "language": "python",
   "name": "python3"
  },
  "language_info": {
   "codemirror_mode": {
    "name": "ipython",
    "version": 3
   },
   "file_extension": ".py",
   "mimetype": "text/x-python",
   "name": "python",
   "nbconvert_exporter": "python",
   "pygments_lexer": "ipython3",
   "version": "3.11.5"
  }
 },
 "nbformat": 4,
 "nbformat_minor": 2
}
